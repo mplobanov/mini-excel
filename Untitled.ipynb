{
 "cells": [
  {
   "cell_type": "code",
   "execution_count": 16,
   "id": "4a43be77",
   "metadata": {},
   "outputs": [],
   "source": [
    "from openpyxl import Workbook, load_workbook"
   ]
  },
  {
   "cell_type": "code",
   "execution_count": 2,
   "id": "25df520a",
   "metadata": {},
   "outputs": [],
   "source": [
    "wb = Workbook()"
   ]
  },
  {
   "cell_type": "code",
   "execution_count": 3,
   "id": "25cea2a1",
   "metadata": {},
   "outputs": [],
   "source": [
    "ws = wb.active"
   ]
  },
  {
   "cell_type": "code",
   "execution_count": 5,
   "id": "d87ec077",
   "metadata": {},
   "outputs": [],
   "source": [
    "ws['A1'] = \"Hello\""
   ]
  },
  {
   "cell_type": "code",
   "execution_count": 14,
   "id": "8035266d",
   "metadata": {},
   "outputs": [],
   "source": [
    "ws['B2'] = 123"
   ]
  },
  {
   "cell_type": "code",
   "execution_count": 15,
   "id": "013a8486",
   "metadata": {},
   "outputs": [],
   "source": [
    "wb.save('example.xlsx')"
   ]
  },
  {
   "cell_type": "code",
   "execution_count": 56,
   "id": "d8eb80c9",
   "metadata": {},
   "outputs": [],
   "source": [
    "wb = load_workbook('example.xlsx', data_only=True, read_only=True)"
   ]
  },
  {
   "cell_type": "code",
   "execution_count": 59,
   "id": "814f7694",
   "metadata": {},
   "outputs": [],
   "source": [
    "wb.active['A3'].value"
   ]
  },
  {
   "cell_type": "code",
   "execution_count": 23,
   "id": "3af2ceac",
   "metadata": {},
   "outputs": [],
   "source": [
    "c = wb.active['C2']"
   ]
  },
  {
   "cell_type": "code",
   "execution_count": 24,
   "id": "50ed38f6",
   "metadata": {},
   "outputs": [
    {
     "data": {
      "text/plain": [
       "'=B2/2'"
      ]
     },
     "execution_count": 24,
     "metadata": {},
     "output_type": "execute_result"
    }
   ],
   "source": [
    "c.value"
   ]
  },
  {
   "cell_type": "code",
   "execution_count": 27,
   "id": "7caeb3cc",
   "metadata": {},
   "outputs": [],
   "source": [
    "vws = 'aeiouy'\n",
    "cns = 'bcdfghjklmnpqrstvwxz'"
   ]
  },
  {
   "cell_type": "code",
   "execution_count": 127,
   "id": "48ccfa9d",
   "metadata": {},
   "outputs": [],
   "source": [
    "from random import choice, randint"
   ]
  },
  {
   "cell_type": "code",
   "execution_count": 43,
   "id": "21020013",
   "metadata": {},
   "outputs": [],
   "source": [
    "def get_name(n: int):\n",
    "    s = ''\n",
    "    for i in range(n):\n",
    "        yield choice(cns)\n",
    "        yield choice(vws)"
   ]
  },
  {
   "cell_type": "code",
   "execution_count": 48,
   "id": "91f24075",
   "metadata": {},
   "outputs": [
    {
     "data": {
      "text/plain": [
       "'Dosani'"
      ]
     },
     "execution_count": 48,
     "metadata": {},
     "output_type": "execute_result"
    }
   ],
   "source": [
    "\"\".join(list(get_name(3))).capitalize()"
   ]
  },
  {
   "cell_type": "code",
   "execution_count": 52,
   "id": "2ed105eb",
   "metadata": {},
   "outputs": [],
   "source": [
    "def get_full_name():\n",
    "    return \"{} {}\".format(\"\".join(list(get_name(3))).capitalize(), \"\".join(list(get_name(4))).capitalize())"
   ]
  },
  {
   "cell_type": "code",
   "execution_count": 55,
   "id": "11a63a4e",
   "metadata": {},
   "outputs": [
    {
     "data": {
      "text/plain": [
       "'Sehiwo Koxonewy'"
      ]
     },
     "execution_count": 55,
     "metadata": {},
     "output_type": "execute_result"
    }
   ],
   "source": [
    "get_full_name()"
   ]
  },
  {
   "cell_type": "code",
   "execution_count": 60,
   "id": "c7a208d6",
   "metadata": {},
   "outputs": [],
   "source": [
    "jobs = [\n",
    "    'Go Dev',\n",
    "    'Python Dev',\n",
    "    'React Dev',\n",
    "    'Product Manager',\n",
    "    'DevOps Engineer',\n",
    "    'Team Lead',\n",
    "    'HR',\n",
    "    'Designer'\n",
    "]"
   ]
  },
  {
   "cell_type": "code",
   "execution_count": 61,
   "id": "775ee955",
   "metadata": {},
   "outputs": [],
   "source": [
    "levels = ['Junior', 'Middle', 'Senior']"
   ]
  },
  {
   "cell_type": "code",
   "execution_count": 62,
   "id": "404bfcc6",
   "metadata": {},
   "outputs": [],
   "source": [
    "def get_job():\n",
    "    job = choice(jobs)\n",
    "    if job != 'Team Lead':\n",
    "        job = choice(levels) + ' ' + job\n",
    "    return job"
   ]
  },
  {
   "cell_type": "code",
   "execution_count": 78,
   "id": "15454a13",
   "metadata": {},
   "outputs": [
    {
     "data": {
      "text/plain": [
       "'Middle Go Dev'"
      ]
     },
     "execution_count": 78,
     "metadata": {},
     "output_type": "execute_result"
    }
   ],
   "source": [
    "get_job()"
   ]
  },
  {
   "cell_type": "code",
   "execution_count": 81,
   "id": "78ca604e",
   "metadata": {},
   "outputs": [],
   "source": [
    "nums = '1234567890'\n",
    "def get_tel():\n",
    "    return '+79' + choice(['1', '2', '5']) + \"\".join([choice(nums) for i in range(8)])"
   ]
  },
  {
   "cell_type": "code",
   "execution_count": 107,
   "id": "183da245",
   "metadata": {},
   "outputs": [
    {
     "data": {
      "text/plain": [
       "'+79574262268'"
      ]
     },
     "execution_count": 107,
     "metadata": {},
     "output_type": "execute_result"
    }
   ],
   "source": [
    "get_tel()"
   ]
  },
  {
   "cell_type": "code",
   "execution_count": 108,
   "id": "216f803c",
   "metadata": {},
   "outputs": [],
   "source": [
    "cities = ['Moscow', 'Berlin', 'Paris', 'New-York', 'London', 'Tokyo']"
   ]
  },
  {
   "cell_type": "code",
   "execution_count": 109,
   "id": "e76e93b6",
   "metadata": {},
   "outputs": [],
   "source": [
    "import datetime as dt"
   ]
  },
  {
   "cell_type": "code",
   "execution_count": 245,
   "id": "1c87ef37",
   "metadata": {},
   "outputs": [],
   "source": [
    "def get_bday():\n",
    "    return ((dt.datetime.now().replace(hour=0, year=1980) + dt.timedelta(weeks=randint(0, 1200))).date())"
   ]
  },
  {
   "cell_type": "code",
   "execution_count": 204,
   "id": "d2a8e8da",
   "metadata": {},
   "outputs": [
    {
     "data": {
      "text/plain": [
       "'1983-08-08'"
      ]
     },
     "execution_count": 204,
     "metadata": {},
     "output_type": "execute_result"
    }
   ],
   "source": [
    "get_bday()"
   ]
  },
  {
   "cell_type": "code",
   "execution_count": 126,
   "id": "6d0f2787",
   "metadata": {},
   "outputs": [
    {
     "data": {
      "text/plain": [
       "datetime.datetime(1971, 6, 15, 0, 25, 26, 623507)"
      ]
     },
     "execution_count": 126,
     "metadata": {},
     "output_type": "execute_result"
    }
   ],
   "source": [
    "dt.datetime.now().replace(hour=0, year=1970)+dt.timedelta(weeks=50)"
   ]
  },
  {
   "cell_type": "code",
   "execution_count": 120,
   "id": "8546c3cb",
   "metadata": {},
   "outputs": [
    {
     "data": {
      "text/plain": [
       "datetime.timedelta(days=350)"
      ]
     },
     "execution_count": 120,
     "metadata": {},
     "output_type": "execute_result"
    }
   ],
   "source": [
    "dt.timedelta(weeks=50)"
   ]
  },
  {
   "cell_type": "code",
   "execution_count": 264,
   "id": "9aa74fce",
   "metadata": {},
   "outputs": [],
   "source": [
    "wb = Workbook()"
   ]
  },
  {
   "cell_type": "code",
   "execution_count": 265,
   "id": "ed227d3c",
   "metadata": {},
   "outputs": [],
   "source": [
    "ws = wb.active"
   ]
  },
  {
   "cell_type": "code",
   "execution_count": 266,
   "id": "aee3f39a",
   "metadata": {},
   "outputs": [],
   "source": [
    "from openpyxl.styles import Font, Alignment"
   ]
  },
  {
   "cell_type": "code",
   "execution_count": 256,
   "id": "7bc728af",
   "metadata": {},
   "outputs": [],
   "source": [
    "ws.page_setup.fitToWidth = 1"
   ]
  },
  {
   "cell_type": "code",
   "execution_count": 268,
   "id": "23834b55",
   "metadata": {},
   "outputs": [],
   "source": [
    "ws['A1'] = 'Name'\n",
    "ws['B1'] = 'Job Title'\n",
    "ws['C1'] = 'Phone Number'\n",
    "ws['D1'] = 'City'\n",
    "ws['E1'] = 'BDay'\n",
    "ws['F1'] = 'hrs/week'\n",
    "for x in 'ABCDEF':\n",
    "    ws.column_dimensions[x].width=20\n",
    "    ws.column_dimensions[x].font = Font(size=14, bold=True)\n",
    "\n"
   ]
  },
  {
   "cell_type": "code",
   "execution_count": null,
   "id": "9634d463",
   "metadata": {},
   "outputs": [],
   "source": []
  },
  {
   "cell_type": "code",
   "execution_count": null,
   "id": "001d3f41",
   "metadata": {},
   "outputs": [],
   "source": []
  },
  {
   "cell_type": "code",
   "execution_count": null,
   "id": "5dfdf905",
   "metadata": {},
   "outputs": [],
   "source": []
  },
  {
   "cell_type": "code",
   "execution_count": null,
   "id": "6760e4ab",
   "metadata": {},
   "outputs": [],
   "source": []
  },
  {
   "cell_type": "code",
   "execution_count": 269,
   "id": "bf6296f7",
   "metadata": {},
   "outputs": [],
   "source": [
    "for i in range(2, 1001):\n",
    "    c = ws.cell(row=i, column=1, value=get_full_name())\n",
    "#     c.alignment = Alignment(shrink_to_fit=True)\n",
    "    c = ws.cell(row=i, column=2, value=get_job())\n",
    "#     c.alignment = Alignment(shrink_to_fit=True)\n",
    "    c = ws.cell(row=i, column=3, value=get_tel())\n",
    "#     c.alignment = Alignment(shrink_to_fit=True)\n",
    "    c = ws.cell(row=i, column=4, value=choice(cities))\n",
    "#     c.alignment = Alignment(shrink_to_fit=True)\n",
    "    c = ws.cell(row=i, column=5, value=get_bday())\n",
    "    \n",
    "#     c.alignment = Alignment(shrink_to_fit=True)\n",
    "    c = ws.cell(row=i, column=6, value=int(choice(['20', '30', '40'])))\n",
    "#     c.alignment = Alignment(shrink_to_fit=True)"
   ]
  },
  {
   "cell_type": "code",
   "execution_count": 270,
   "id": "7cd628ac",
   "metadata": {},
   "outputs": [],
   "source": [
    "wb.save('example2.xlsx')"
   ]
  },
  {
   "cell_type": "code",
   "execution_count": null,
   "id": "ba2bb25b",
   "metadata": {},
   "outputs": [],
   "source": []
  },
  {
   "cell_type": "code",
   "execution_count": null,
   "id": "5e3a1eca",
   "metadata": {},
   "outputs": [],
   "source": [
    "get_bday()"
   ]
  },
  {
   "cell_type": "code",
   "execution_count": null,
   "id": "ae9677c8",
   "metadata": {},
   "outputs": [],
   "source": []
  },
  {
   "cell_type": "code",
   "execution_count": null,
   "id": "86de7be0",
   "metadata": {},
   "outputs": [],
   "source": []
  },
  {
   "cell_type": "code",
   "execution_count": null,
   "id": "f6746081",
   "metadata": {},
   "outputs": [],
   "source": []
  }
 ],
 "metadata": {
  "kernelspec": {
   "display_name": "Python 3 (ipykernel)",
   "language": "python",
   "name": "python3"
  },
  "language_info": {
   "codemirror_mode": {
    "name": "ipython",
    "version": 3
   },
   "file_extension": ".py",
   "mimetype": "text/x-python",
   "name": "python",
   "nbconvert_exporter": "python",
   "pygments_lexer": "ipython3",
   "version": "3.7.11"
  }
 },
 "nbformat": 4,
 "nbformat_minor": 5
}
