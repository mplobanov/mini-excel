{
 "cells": [
  {
   "cell_type": "code",
   "execution_count": 16,
   "id": "03e7b4d2",
   "metadata": {},
   "outputs": [],
   "source": [
    "from openpyxl import Workbook, load_workbook"
   ]
  },
  {
   "cell_type": "code",
   "execution_count": 2,
   "id": "f8f97cbc",
   "metadata": {},
   "outputs": [],
   "source": [
    "wb = Workbook()"
   ]
  },
  {
   "cell_type": "code",
   "execution_count": 3,
   "id": "802f5342",
   "metadata": {},
   "outputs": [],
   "source": [
    "ws = wb.active"
   ]
  },
  {
   "cell_type": "code",
   "execution_count": 5,
   "id": "bb90b6ff",
   "metadata": {},
   "outputs": [],
   "source": [
    "ws['A1'] = \"Hello\""
   ]
  },
  {
   "cell_type": "code",
   "execution_count": 14,
   "id": "f901077e",
   "metadata": {},
   "outputs": [],
   "source": [
    "ws['B2'] = 123"
   ]
  },
  {
   "cell_type": "code",
   "execution_count": 15,
   "id": "700c3961",
   "metadata": {},
   "outputs": [],
   "source": [
    "wb.save('example.xlsx')"
   ]
  },
  {
   "cell_type": "code",
   "execution_count": 56,
   "id": "b46bacb0",
   "metadata": {},
   "outputs": [],
   "source": [
    "wb = load_workbook('example.xlsx', data_only=True, read_only=True)"
   ]
  },
  {
   "cell_type": "code",
   "execution_count": 59,
   "id": "9d8cf984",
   "metadata": {},
   "outputs": [],
   "source": [
    "wb.active['A3'].value"
   ]
  },
  {
   "cell_type": "code",
   "execution_count": 23,
   "id": "e5806bcf",
   "metadata": {},
   "outputs": [],
   "source": [
    "c = wb.active['C2']"
   ]
  },
  {
   "cell_type": "code",
   "execution_count": 24,
   "id": "3bf1d74a",
   "metadata": {},
   "outputs": [
    {
     "data": {
      "text/plain": [
       "'=B2/2'"
      ]
     },
     "execution_count": 24,
     "metadata": {},
     "output_type": "execute_result"
    }
   ],
   "source": [
    "c.value"
   ]
  },
  {
   "cell_type": "code",
   "execution_count": 27,
   "id": "1d4efa35",
   "metadata": {},
   "outputs": [],
   "source": [
    "vws = 'aeiouy'\n",
    "cns = 'bcdfghjklmnpqrstvwxz'"
   ]
  },
  {
   "cell_type": "code",
   "execution_count": 127,
   "id": "879e1b75",
   "metadata": {},
   "outputs": [],
   "source": [
    "from random import choice, randint"
   ]
  },
  {
   "cell_type": "code",
   "execution_count": 43,
   "id": "ae7f3abb",
   "metadata": {},
   "outputs": [],
   "source": [
    "def get_name(n: int):\n",
    "    s = ''\n",
    "    for i in range(n):\n",
    "        yield choice(cns)\n",
    "        yield choice(vws)"
   ]
  },
  {
   "cell_type": "code",
   "execution_count": 48,
   "id": "109933c4",
   "metadata": {},
   "outputs": [
    {
     "data": {
      "text/plain": [
       "'Dosani'"
      ]
     },
     "execution_count": 48,
     "metadata": {},
     "output_type": "execute_result"
    }
   ],
   "source": [
    "\"\".join(list(get_name(3))).capitalize()"
   ]
  },
  {
   "cell_type": "code",
   "execution_count": 52,
   "id": "bf0e370a",
   "metadata": {},
   "outputs": [],
   "source": [
    "def get_full_name():\n",
    "    return \"{} {}\".format(\"\".join(list(get_name(3))).capitalize(), \"\".join(list(get_name(4))).capitalize())"
   ]
  },
  {
   "cell_type": "code",
   "execution_count": 55,
   "id": "b35319cc",
   "metadata": {},
   "outputs": [
    {
     "data": {
      "text/plain": [
       "'Sehiwo Koxonewy'"
      ]
     },
     "execution_count": 55,
     "metadata": {},
     "output_type": "execute_result"
    }
   ],
   "source": [
    "get_full_name()"
   ]
  },
  {
   "cell_type": "code",
   "execution_count": 60,
   "id": "bfb7c149",
   "metadata": {},
   "outputs": [],
   "source": [
    "jobs = [\n",
    "    'Go Dev',\n",
    "    'Python Dev',\n",
    "    'React Dev',\n",
    "    'Product Manager',\n",
    "    'DevOps Engineer',\n",
    "    'Team Lead',\n",
    "    'HR',\n",
    "    'Designer'\n",
    "]"
   ]
  },
  {
   "cell_type": "code",
   "execution_count": 61,
   "id": "dc738bd3",
   "metadata": {},
   "outputs": [],
   "source": [
    "levels = ['Junior', 'Middle', 'Senior']"
   ]
  },
  {
   "cell_type": "code",
   "execution_count": 62,
   "id": "b6728837",
   "metadata": {},
   "outputs": [],
   "source": [
    "def get_job():\n",
    "    job = choice(jobs)\n",
    "    if job != 'Team Lead':\n",
    "        job = choice(levels) + ' ' + job\n",
    "    return job"
   ]
  },
  {
   "cell_type": "code",
   "execution_count": 78,
   "id": "aebe2084",
   "metadata": {},
   "outputs": [
    {
     "data": {
      "text/plain": [
       "'Middle Go Dev'"
      ]
     },
     "execution_count": 78,
     "metadata": {},
     "output_type": "execute_result"
    }
   ],
   "source": [
    "get_job()"
   ]
  },
  {
   "cell_type": "code",
   "execution_count": 81,
   "id": "252c7aa6",
   "metadata": {},
   "outputs": [],
   "source": [
    "nums = '1234567890'\n",
    "def get_tel():\n",
    "    return '+79' + choice(['1', '2', '5']) + \"\".join([choice(nums) for i in range(8)])"
   ]
  },
  {
   "cell_type": "code",
   "execution_count": 107,
   "id": "67d556d1",
   "metadata": {},
   "outputs": [
    {
     "data": {
      "text/plain": [
       "'+79574262268'"
      ]
     },
     "execution_count": 107,
     "metadata": {},
     "output_type": "execute_result"
    }
   ],
   "source": [
    "get_tel()"
   ]
  },
  {
   "cell_type": "code",
   "execution_count": 108,
   "id": "b72ab011",
   "metadata": {},
   "outputs": [],
   "source": [
    "cities = ['Moscow', 'Berlin', 'Paris', 'New-York', 'London', 'Tokyo']"
   ]
  },
  {
   "cell_type": "code",
   "execution_count": 109,
   "id": "147fab76",
   "metadata": {},
   "outputs": [],
   "source": [
    "import datetime as dt"
   ]
  },
  {
   "cell_type": "code",
   "execution_count": 245,
   "id": "3671e5f5",
   "metadata": {},
   "outputs": [],
   "source": [
    "def get_bday():\n",
    "    return ((dt.datetime.now().replace(hour=0, year=1980) + dt.timedelta(weeks=randint(0, 1200))).date())"
   ]
  },
  {
   "cell_type": "code",
   "execution_count": 204,
   "id": "e54dcb8e",
   "metadata": {},
   "outputs": [
    {
     "data": {
      "text/plain": [
       "'1983-08-08'"
      ]
     },
     "execution_count": 204,
     "metadata": {},
     "output_type": "execute_result"
    }
   ],
   "source": [
    "get_bday()"
   ]
  },
  {
   "cell_type": "code",
   "execution_count": 126,
   "id": "be30b1f5",
   "metadata": {},
   "outputs": [
    {
     "data": {
      "text/plain": [
       "datetime.datetime(1971, 6, 15, 0, 25, 26, 623507)"
      ]
     },
     "execution_count": 126,
     "metadata": {},
     "output_type": "execute_result"
    }
   ],
   "source": [
    "dt.datetime.now().replace(hour=0, year=1970)+dt.timedelta(weeks=50)"
   ]
  },
  {
   "cell_type": "code",
   "execution_count": 120,
   "id": "d12c79f7",
   "metadata": {},
   "outputs": [
    {
     "data": {
      "text/plain": [
       "datetime.timedelta(days=350)"
      ]
     },
     "execution_count": 120,
     "metadata": {},
     "output_type": "execute_result"
    }
   ],
   "source": [
    "dt.timedelta(weeks=50)"
   ]
  },
  {
   "cell_type": "code",
   "execution_count": 253,
   "id": "d08737cb",
   "metadata": {},
   "outputs": [],
   "source": [
    "wb = Workbook()"
   ]
  },
  {
   "cell_type": "code",
   "execution_count": 254,
   "id": "663bf01e",
   "metadata": {},
   "outputs": [],
   "source": [
    "ws = wb.active"
   ]
  },
  {
   "cell_type": "code",
   "execution_count": 255,
   "id": "1d23cba4",
   "metadata": {},
   "outputs": [],
   "source": [
    "from openpyxl.styles import Font, Alignment"
   ]
  },
  {
   "cell_type": "code",
   "execution_count": 256,
   "id": "df60e485",
   "metadata": {},
   "outputs": [],
   "source": [
    "ws.page_setup.fitToWidth = 1"
   ]
  },
  {
   "cell_type": "code",
   "execution_count": 262,
   "id": "521422f4",
   "metadata": {},
   "outputs": [],
   "source": [
    "ws['A1'] = 'Name'\n",
    "ws['B1'] = 'Job Title'\n",
    "ws['C1'] = 'Phone Number'\n",
    "ws['D1'] = 'City'\n",
    "ws['E1'] = 'BDay'\n",
    "ws['F1'] = 'hrs/week'\n",
    "for x in 'ABCDEF':\n",
    "    ws.column_dimensions[x].width=20\n",
    "    ws.column_dimensions[x].font = Font(size=14, bold=True)\n",
    "\n"
   ]
  },
  {
   "cell_type": "code",
   "execution_count": null,
   "id": "3404131e",
   "metadata": {},
   "outputs": [],
   "source": []
  },
  {
   "cell_type": "code",
   "execution_count": null,
   "id": "2cb8b079",
   "metadata": {},
   "outputs": [],
   "source": []
  },
  {
   "cell_type": "code",
   "execution_count": null,
   "id": "50092e32",
   "metadata": {},
   "outputs": [],
   "source": []
  },
  {
   "cell_type": "code",
   "execution_count": null,
   "id": "ba59ec1e",
   "metadata": {},
   "outputs": [],
   "source": []
  },
  {
   "cell_type": "code",
   "execution_count": 258,
   "id": "9c7f6f1b",
   "metadata": {},
   "outputs": [],
   "source": [
    "for i in range(2, 1001):\n",
    "    c = ws.cell(row=i, column=1, value=get_full_name())\n",
    "    c.alignment = Alignment(shrink_to_fit=True)\n",
    "    c = ws.cell(row=i, column=2, value=get_job())\n",
    "    c.alignment = Alignment(shrink_to_fit=True)\n",
    "    c = ws.cell(row=i, column=3, value=get_tel())\n",
    "    c.alignment = Alignment(shrink_to_fit=True)\n",
    "    c = ws.cell(row=i, column=4, value=choice(cities))\n",
    "    c.alignment = Alignment(shrink_to_fit=True)\n",
    "    c = ws.cell(row=i, column=5, value=get_bday())\n",
    "    \n",
    "    c.alignment = Alignment(shrink_to_fit=True)\n",
    "    c = ws.cell(row=i, column=6, value=int(choice(['20', '30', '40'])))\n",
    "    c.alignment = Alignment(shrink_to_fit=True)"
   ]
  },
  {
   "cell_type": "code",
   "execution_count": 263,
   "id": "a0e0e962",
   "metadata": {},
   "outputs": [],
   "source": [
    "wb.save('example2.xlsx')"
   ]
  },
  {
   "cell_type": "code",
   "execution_count": null,
   "id": "e497a8bf",
   "metadata": {},
   "outputs": [],
   "source": []
  },
  {
   "cell_type": "code",
   "execution_count": null,
   "id": "49e3f33d",
   "metadata": {},
   "outputs": [],
   "source": [
    "get_bday()"
   ]
  },
  {
   "cell_type": "code",
   "execution_count": null,
   "id": "f5447ca0",
   "metadata": {},
   "outputs": [],
   "source": []
  },
  {
   "cell_type": "code",
   "execution_count": null,
   "id": "e7a52316",
   "metadata": {},
   "outputs": [],
   "source": []
  },
  {
   "cell_type": "code",
   "execution_count": null,
   "id": "38572c22",
   "metadata": {},
   "outputs": [],
   "source": []
  }
 ],
 "metadata": {
  "kernelspec": {
   "display_name": "Python 3 (ipykernel)",
   "language": "python",
   "name": "python3"
  },
  "language_info": {
   "codemirror_mode": {
    "name": "ipython",
    "version": 3
   },
   "file_extension": ".py",
   "mimetype": "text/x-python",
   "name": "python",
   "nbconvert_exporter": "python",
   "pygments_lexer": "ipython3",
   "version": "3.7.11"
  }
 },
 "nbformat": 4,
 "nbformat_minor": 5
}
